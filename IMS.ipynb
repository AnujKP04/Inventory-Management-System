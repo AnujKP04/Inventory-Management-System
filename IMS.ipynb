{
  "nbformat": 4,
  "nbformat_minor": 0,
  "metadata": {
    "colab": {
      "name": "IMS.ipynb",
      "provenance": [],
      "collapsed_sections": []
    },
    "kernelspec": {
      "name": "python3",
      "display_name": "Python 3"
    },
    "language_info": {
      "name": "python"
    }
  },
  "cells": [
    {
      "cell_type": "code",
      "metadata": {
        "id": "fjyZpvy67e6J"
      },
      "source": [
        "Data = {191101 : {\"name\" : \"Parle-g\"     , \"price\" : 20, \"expiry date\" : \"6 months\", \"quantity\": 700},\n",
        "        191102 : {\"name\" : \"Good day\"    , \"price\" : 40, \"expiry date\" : \"6 months\", \"quantity\": 300},\n",
        "        191103 : {\"name\" : \"BakersBix\"   , \"price\" : 25, \"expiry date\" : \"3 months\", \"quantity\": 350},\n",
        "        191104 : {\"name\" : \"Mom's Magic\" , \"price\" : 50, \"expiry date\" : \"4 months\", \"quantity\": 200},\n",
        "        191105 : {\"name\" : \"Bounce\"      , \"price\" : 20, \"expiry date\" : \"6 months\", \"quantity\": 400},\n",
        "        191106 : {\"name\" : \"oreo\"        , \"price\" : 40, \"expiry date\" : \"2 months\", \"quantity\": 1000},\n",
        "        191107 : {\"name\" : \"20-20\"       , \"price\" : 10, \"expiry date\" : \"5 months\", \"quantity\": 600},\n",
        "        191108 : {\"name\" : \"50-50\"       , \"price\" : 10, \"expiry date\" : \"4 months\", \"quantity\": 400},\n",
        "        191109 : {\"name\" : \"Monacco\"     , \"price\" : 20, \"expiry date\" : \"7 months\", \"quantity\": 350},\n",
        "        191110 : {\"name\" : \"magix\"       , \"price\" : 20, \"expiry date\" : \"1 months\", \"quantity\": 450},\n",
        "        191111 : {\"name\" : \"Nimkin\"      , \"price\" : 10, \"expiry date\" : \"4 months\", \"quantity\": 150},\n",
        "        191112 : {\"name\" : \"krackjack\"   , \"price\" : 20, \"expiry date\" : \"3 months\", \"quantity\": 650},\n",
        "        191113 : {\"name\" : \"Kreams\"      , \"price\" : 30, \"expiry date\" : \"6 months\", \"quantity\": 850},\n",
        "        191114 : {\"name\" : \"Hide & Seek\" , \"price\" : 40, \"expiry date\" : \"6 months\", \"quantity\": 350},\n",
        "        191115 : {\"name\" : \"Happy Happy\" , \"price\" : 50, \"expiry date\" : \"5 months\", \"quantity\": 200},\n",
        "        191116 : {\"name\" : \"Pearle Marie\", \"price\" : 40, \"expiry date\" : \"3 months\", \"quantity\": 220},\n",
        "        191117 : {\"name\" : \"Marie gold\"  , \"price\" : 10, \"expiry date\" : \"5 months\", \"quantity\": 180},\n",
        "        191118 : {\"name\" : \"Milk shakti\" , \"price\" : 10, \"expiry date\" : \"4 months\", \"quantity\": 650},\n",
        "        191119 : {\"name\" : \"Horlicks\"    , \"price\" : 40, \"expiry date\" : \"2 months\", \"quantity\": 360},\n",
        "        191120 : {\"name\" : \"Top\"         , \"price\" : 30, \"expiry date\" : \"1 months\", \"quantity\": 500},\n",
        "        191121 : {\"name\" : \"Golden Arcs\" , \"price\" : 20, \"expiry date\" : \"6 months\", \"quantity\": 850},\n",
        "        191122 : {\"name\" : \"Burban\"      , \"price\" : 20, \"expiry date\" : \"6 months\", \"quantity\": 200},\n",
        "        191123 : {\"name\" : \"Tiger\"       , \"price\" : 10, \"expiry date\" : \"6 months\", \"quantity\": 340},\n",
        "        191124 : {\"name\" : \"Glocusoe V\"  , \"price\" : 25, \"expiry date\" : \"4 months\", \"quantity\": 320},\n",
        "        191125 : {\"name\" : \"Butter Bake\" , \"price\" : 20, \"expiry date\" : \"4 months\", \"quantity\": 460},\n",
        "        191126 : {\"name\" : \"Nutri choice\", \"price\" : 50, \"expiry date\" : \"5 months\", \"quantity\": 500},\n",
        "        191127 : {\"name\" : \"Time Pass\"   , \"price\" : 30, \"expiry date\" : \"3 months\", \"quantity\": 550},\n",
        "        191128 : {\"name\" : \"Little Hearts\",\"price\" : 50, \"expiry date\" : \"3 months\", \"quantity\": 350},\n",
        "        191129 : {\"name\" : \"Pure Magic\"  , \"price\" : 40, \"expiry date\" : \"4 months\", \"quantity\": 250}\n",
        "        }\n"
      ],
      "execution_count": 9,
      "outputs": []
    },
    {
      "cell_type": "code",
      "metadata": {
        "id": "iSFfYSzB-tiJ",
        "colab": {
          "base_uri": "https://localhost:8080/",
          "height": 160
        },
        "outputId": "9c3234a1-7df3-46bd-8615-e3d345a678c7"
      },
      "source": [
        "import json\n",
        "js = json.dumps(Data)\n",
        "js"
      ],
      "execution_count": 10,
      "outputs": [
        {
          "output_type": "execute_result",
          "data": {
            "application/vnd.google.colaboratory.intrinsic+json": {
              "type": "string"
            },
            "text/plain": [
              "'{\"191101\": {\"name\": \"Parle-g\", \"price\": 20, \"expiry date\": \"6 months\", \"quantity\": 700}, \"191102\": {\"name\": \"Good day\", \"price\": 40, \"expiry date\": \"6 months\", \"quantity\": 300}, \"191103\": {\"name\": \"BakersBix\", \"price\": 25, \"expiry date\": \"3 months\", \"quantity\": 350}, \"191104\": {\"name\": \"Mom\\'s Magic\", \"price\": 50, \"expiry date\": \"4 months\", \"quantity\": 200}, \"191105\": {\"name\": \"Bounce\", \"price\": 20, \"expiry date\": \"6 months\", \"quantity\": 400}, \"191106\": {\"name\": \"oreo\", \"price\": 40, \"expiry date\": \"2 months\", \"quantity\": 1000}, \"191107\": {\"name\": \"20-20\", \"price\": 10, \"expiry date\": \"5 months\", \"quantity\": 600}, \"191108\": {\"name\": \"50-50\", \"price\": 10, \"expiry date\": \"4 months\", \"quantity\": 400}, \"191109\": {\"name\": \"Monacco\", \"price\": 20, \"expiry date\": \"7 months\", \"quantity\": 350}, \"191110\": {\"name\": \"magix\", \"price\": 20, \"expiry date\": \"1 months\", \"quantity\": 450}, \"191111\": {\"name\": \"Nimkin\", \"price\": 10, \"expiry date\": \"4 months\", \"quantity\": 150}, \"191112\": {\"name\": \"krackjack\", \"price\": 20, \"expiry date\": \"3 months\", \"quantity\": 650}, \"191113\": {\"name\": \"Kreams\", \"price\": 30, \"expiry date\": \"6 months\", \"quantity\": 850}, \"191114\": {\"name\": \"Hide & Seek\", \"price\": 40, \"expiry date\": \"6 months\", \"quantity\": 350}, \"191115\": {\"name\": \"Happy Happy\", \"price\": 50, \"expiry date\": \"5 months\", \"quantity\": 200}, \"191116\": {\"name\": \"Pearle Marie\", \"price\": 40, \"expiry date\": \"3 months\", \"quantity\": 220}, \"191117\": {\"name\": \"Marie gold\", \"price\": 10, \"expiry date\": \"5 months\", \"quantity\": 180}, \"191118\": {\"name\": \"Milk shakti\", \"price\": 10, \"expiry date\": \"4 months\", \"quantity\": 650}, \"191119\": {\"name\": \"Horlicks\", \"price\": 40, \"expiry date\": \"2 months\", \"quantity\": 360}, \"191120\": {\"name\": \"Top\", \"price\": 30, \"expiry date\": \"1 months\", \"quantity\": 500}, \"191121\": {\"name\": \"Golden Arcs\", \"price\": 20, \"expiry date\": \"6 months\", \"quantity\": 850}, \"191122\": {\"name\": \"Burban\", \"price\": 20, \"expiry date\": \"6 months\", \"quantity\": 200}, \"191123\": {\"name\": \"Tiger\", \"price\": 10, \"expiry date\": \"6 months\", \"quantity\": 340}, \"191124\": {\"name\": \"Glocusoe V\", \"price\": 25, \"expiry date\": \"4 months\", \"quantity\": 320}, \"191125\": {\"name\": \"Butter Bake\", \"price\": 20, \"expiry date\": \"4 months\", \"quantity\": 460}, \"191126\": {\"name\": \"Nutri choice\", \"price\": 50, \"expiry date\": \"5 months\", \"quantity\": 500}, \"191127\": {\"name\": \"Time Pass\", \"price\": 30, \"expiry date\": \"3 months\", \"quantity\": 550}, \"191128\": {\"name\": \"Little Hearts\", \"price\": 50, \"expiry date\": \"3 months\", \"quantity\": 350}, \"191129\": {\"name\": \"Pure Magic\", \"price\": 40, \"expiry date\": \"4 months\", \"quantity\": 250}}'"
            ]
          },
          "metadata": {},
          "execution_count": 10
        }
      ]
    },
    {
      "cell_type": "code",
      "metadata": {
        "id": "FCBESADa-bN_"
      },
      "source": [
        "fd = open(\"Data.json\",'w')\n",
        "fd.write(js)\n",
        "fd.close()"
      ],
      "execution_count": 11,
      "outputs": []
    },
    {
      "cell_type": "code",
      "metadata": {
        "id": "UzPbLsvS_XQ1",
        "colab": {
          "base_uri": "https://localhost:8080/"
        },
        "outputId": "31c96db5-be4f-4535-d017-b1105f080860"
      },
      "source": [
        "fd = open(\"Data.json\",'r')\n",
        "txt = fd.read()\n",
        "fd.close() \n",
        "Data"
      ],
      "execution_count": 12,
      "outputs": [
        {
          "output_type": "execute_result",
          "data": {
            "text/plain": [
              "{191101: {'expiry date': '6 months',\n",
              "  'name': 'Parle-g',\n",
              "  'price': 20,\n",
              "  'quantity': 700},\n",
              " 191102: {'expiry date': '6 months',\n",
              "  'name': 'Good day',\n",
              "  'price': 40,\n",
              "  'quantity': 300},\n",
              " 191103: {'expiry date': '3 months',\n",
              "  'name': 'BakersBix',\n",
              "  'price': 25,\n",
              "  'quantity': 350},\n",
              " 191104: {'expiry date': '4 months',\n",
              "  'name': \"Mom's Magic\",\n",
              "  'price': 50,\n",
              "  'quantity': 200},\n",
              " 191105: {'expiry date': '6 months',\n",
              "  'name': 'Bounce',\n",
              "  'price': 20,\n",
              "  'quantity': 400},\n",
              " 191106: {'expiry date': '2 months',\n",
              "  'name': 'oreo',\n",
              "  'price': 40,\n",
              "  'quantity': 1000},\n",
              " 191107: {'expiry date': '5 months',\n",
              "  'name': '20-20',\n",
              "  'price': 10,\n",
              "  'quantity': 600},\n",
              " 191108: {'expiry date': '4 months',\n",
              "  'name': '50-50',\n",
              "  'price': 10,\n",
              "  'quantity': 400},\n",
              " 191109: {'expiry date': '7 months',\n",
              "  'name': 'Monacco',\n",
              "  'price': 20,\n",
              "  'quantity': 350},\n",
              " 191110: {'expiry date': '1 months',\n",
              "  'name': 'magix',\n",
              "  'price': 20,\n",
              "  'quantity': 450},\n",
              " 191111: {'expiry date': '4 months',\n",
              "  'name': 'Nimkin',\n",
              "  'price': 10,\n",
              "  'quantity': 150},\n",
              " 191112: {'expiry date': '3 months',\n",
              "  'name': 'krackjack',\n",
              "  'price': 20,\n",
              "  'quantity': 650},\n",
              " 191113: {'expiry date': '6 months',\n",
              "  'name': 'Kreams',\n",
              "  'price': 30,\n",
              "  'quantity': 850},\n",
              " 191114: {'expiry date': '6 months',\n",
              "  'name': 'Hide & Seek',\n",
              "  'price': 40,\n",
              "  'quantity': 350},\n",
              " 191115: {'expiry date': '5 months',\n",
              "  'name': 'Happy Happy',\n",
              "  'price': 50,\n",
              "  'quantity': 200},\n",
              " 191116: {'expiry date': '3 months',\n",
              "  'name': 'Pearle Marie',\n",
              "  'price': 40,\n",
              "  'quantity': 220},\n",
              " 191117: {'expiry date': '5 months',\n",
              "  'name': 'Marie gold',\n",
              "  'price': 10,\n",
              "  'quantity': 180},\n",
              " 191118: {'expiry date': '4 months',\n",
              "  'name': 'Milk shakti',\n",
              "  'price': 10,\n",
              "  'quantity': 650},\n",
              " 191119: {'expiry date': '2 months',\n",
              "  'name': 'Horlicks',\n",
              "  'price': 40,\n",
              "  'quantity': 360},\n",
              " 191120: {'expiry date': '1 months',\n",
              "  'name': 'Top',\n",
              "  'price': 30,\n",
              "  'quantity': 500},\n",
              " 191121: {'expiry date': '6 months',\n",
              "  'name': 'Golden Arcs',\n",
              "  'price': 20,\n",
              "  'quantity': 850},\n",
              " 191122: {'expiry date': '6 months',\n",
              "  'name': 'Burban',\n",
              "  'price': 20,\n",
              "  'quantity': 200},\n",
              " 191123: {'expiry date': '6 months',\n",
              "  'name': 'Tiger',\n",
              "  'price': 10,\n",
              "  'quantity': 340},\n",
              " 191124: {'expiry date': '4 months',\n",
              "  'name': 'Glocusoe V',\n",
              "  'price': 25,\n",
              "  'quantity': 320},\n",
              " 191125: {'expiry date': '4 months',\n",
              "  'name': 'Butter Bake',\n",
              "  'price': 20,\n",
              "  'quantity': 460},\n",
              " 191126: {'expiry date': '5 months',\n",
              "  'name': 'Nutri choice',\n",
              "  'price': 50,\n",
              "  'quantity': 500},\n",
              " 191127: {'expiry date': '3 months',\n",
              "  'name': 'Time Pass',\n",
              "  'price': 30,\n",
              "  'quantity': 550},\n",
              " 191128: {'expiry date': '3 months',\n",
              "  'name': 'Little Hearts',\n",
              "  'price': 50,\n",
              "  'quantity': 350},\n",
              " 191129: {'expiry date': '4 months',\n",
              "  'name': 'Pure Magic',\n",
              "  'price': 40,\n",
              "  'quantity': 250}}"
            ]
          },
          "metadata": {},
          "execution_count": 12
        }
      ]
    },
    {
      "cell_type": "code",
      "metadata": {
        "id": "7jgjw5I4BaVh"
      },
      "source": [
        "Data = json.loads(txt)\n",
        "\n"
      ],
      "execution_count": 17,
      "outputs": []
    },
    {
      "cell_type": "markdown",
      "metadata": {
        "id": "zE5QWCG5f0zt"
      },
      "source": [
        "##Add iteam in inventory"
      ]
    },
    {
      "cell_type": "code",
      "metadata": {
        "id": "OvpjpU0sf-bT"
      },
      "source": [
        "import json\n",
        "\n",
        "fd = open(\"Data.json\",'r')\n",
        "r = fd.read()\n",
        "fd.close() \n",
        "Data = json.loads(r)\n",
        " "
      ],
      "execution_count": null,
      "outputs": []
    },
    {
      "cell_type": "code",
      "metadata": {
        "colab": {
          "base_uri": "https://localhost:8080/"
        },
        "id": "qS9a3QWpgL2n",
        "outputId": "00822d16-6cf6-4d87-856c-d7debef3c6cc"
      },
      "source": [
        "data_id = str(input(\"Enter product id :\"))\n",
        "name = str(input(\"Enter name :\"))\n",
        "price = int(input(\"Enter price :\"))\n",
        "expiry_date = str(input(\"Enter expiry date :\"))\n",
        "quantity = int(input(\"Enter quantity :\"))\n",
        "\n",
        "Data[data_id] = {'name': name, 'price': price, 'expiry_date' : expiry_date ,'quantity': quantity }\n",
        "\n",
        "js = json.dumps(Data)\n",
        " \n",
        "fd = open(\"Data.json\", 'w')\n",
        "fd.write(js)\n",
        "fd.close()"
      ],
      "execution_count": 15,
      "outputs": [
        {
          "name": "stdout",
          "output_type": "stream",
          "text": [
            "Enter product id :191130\n",
            "Enter name :Treat\n",
            "Enter price :40\n",
            "Enter expiry date :4 months\n",
            "Enter quantity :350\n"
          ]
        }
      ]
    },
    {
      "cell_type": "code",
      "metadata": {
        "id": "ly4B7XLM_U4I",
        "colab": {
          "base_uri": "https://localhost:8080/"
        },
        "outputId": "363573aa-ab06-4c3a-ccc2-c4d61e04f85d"
      },
      "source": [
        "Data"
      ],
      "execution_count": 16,
      "outputs": [
        {
          "output_type": "execute_result",
          "data": {
            "text/plain": [
              "{191101: {'expiry date': '6 months',\n",
              "  'name': 'Parle-g',\n",
              "  'price': 20,\n",
              "  'quantity': 700},\n",
              " 191102: {'expiry date': '6 months',\n",
              "  'name': 'Good day',\n",
              "  'price': 40,\n",
              "  'quantity': 300},\n",
              " 191103: {'expiry date': '3 months',\n",
              "  'name': 'BakersBix',\n",
              "  'price': 25,\n",
              "  'quantity': 350},\n",
              " 191104: {'expiry date': '4 months',\n",
              "  'name': \"Mom's Magic\",\n",
              "  'price': 50,\n",
              "  'quantity': 200},\n",
              " 191105: {'expiry date': '6 months',\n",
              "  'name': 'Bounce',\n",
              "  'price': 20,\n",
              "  'quantity': 400},\n",
              " 191106: {'expiry date': '2 months',\n",
              "  'name': 'oreo',\n",
              "  'price': 40,\n",
              "  'quantity': 1000},\n",
              " 191107: {'expiry date': '5 months',\n",
              "  'name': '20-20',\n",
              "  'price': 10,\n",
              "  'quantity': 600},\n",
              " 191108: {'expiry date': '4 months',\n",
              "  'name': '50-50',\n",
              "  'price': 10,\n",
              "  'quantity': 400},\n",
              " 191109: {'expiry date': '7 months',\n",
              "  'name': 'Monacco',\n",
              "  'price': 20,\n",
              "  'quantity': 350},\n",
              " 191110: {'expiry date': '1 months',\n",
              "  'name': 'magix',\n",
              "  'price': 20,\n",
              "  'quantity': 450},\n",
              " 191111: {'expiry date': '4 months',\n",
              "  'name': 'Nimkin',\n",
              "  'price': 10,\n",
              "  'quantity': 150},\n",
              " 191112: {'expiry date': '3 months',\n",
              "  'name': 'krackjack',\n",
              "  'price': 20,\n",
              "  'quantity': 650},\n",
              " 191113: {'expiry date': '6 months',\n",
              "  'name': 'Kreams',\n",
              "  'price': 30,\n",
              "  'quantity': 850},\n",
              " 191114: {'expiry date': '6 months',\n",
              "  'name': 'Hide & Seek',\n",
              "  'price': 40,\n",
              "  'quantity': 350},\n",
              " 191115: {'expiry date': '5 months',\n",
              "  'name': 'Happy Happy',\n",
              "  'price': 50,\n",
              "  'quantity': 200},\n",
              " 191116: {'expiry date': '3 months',\n",
              "  'name': 'Pearle Marie',\n",
              "  'price': 40,\n",
              "  'quantity': 220},\n",
              " 191117: {'expiry date': '5 months',\n",
              "  'name': 'Marie gold',\n",
              "  'price': 10,\n",
              "  'quantity': 180},\n",
              " 191118: {'expiry date': '4 months',\n",
              "  'name': 'Milk shakti',\n",
              "  'price': 10,\n",
              "  'quantity': 650},\n",
              " 191119: {'expiry date': '2 months',\n",
              "  'name': 'Horlicks',\n",
              "  'price': 40,\n",
              "  'quantity': 360},\n",
              " 191120: {'expiry date': '1 months',\n",
              "  'name': 'Top',\n",
              "  'price': 30,\n",
              "  'quantity': 500},\n",
              " 191121: {'expiry date': '6 months',\n",
              "  'name': 'Golden Arcs',\n",
              "  'price': 20,\n",
              "  'quantity': 850},\n",
              " 191122: {'expiry date': '6 months',\n",
              "  'name': 'Burban',\n",
              "  'price': 20,\n",
              "  'quantity': 200},\n",
              " 191123: {'expiry date': '6 months',\n",
              "  'name': 'Tiger',\n",
              "  'price': 10,\n",
              "  'quantity': 340},\n",
              " 191124: {'expiry date': '4 months',\n",
              "  'name': 'Glocusoe V',\n",
              "  'price': 25,\n",
              "  'quantity': 320},\n",
              " 191125: {'expiry date': '4 months',\n",
              "  'name': 'Butter Bake',\n",
              "  'price': 20,\n",
              "  'quantity': 460},\n",
              " 191126: {'expiry date': '5 months',\n",
              "  'name': 'Nutri choice',\n",
              "  'price': 50,\n",
              "  'quantity': 500},\n",
              " 191127: {'expiry date': '3 months',\n",
              "  'name': 'Time Pass',\n",
              "  'price': 30,\n",
              "  'quantity': 550},\n",
              " 191128: {'expiry date': '3 months',\n",
              "  'name': 'Little Hearts',\n",
              "  'price': 50,\n",
              "  'quantity': 350},\n",
              " 191129: {'expiry date': '4 months',\n",
              "  'name': 'Pure Magic',\n",
              "  'price': 40,\n",
              "  'quantity': 250},\n",
              " '191130': {'expiry_date': '4 months',\n",
              "  'name': 'Treat',\n",
              "  'price': 40,\n",
              "  'quantity': 350}}"
            ]
          },
          "metadata": {},
          "execution_count": 16
        }
      ]
    }
  ]
}
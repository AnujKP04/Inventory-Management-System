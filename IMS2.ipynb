{
  "nbformat": 4,
  "nbformat_minor": 0,
  "metadata": {
    "colab": {
      "name": "IMS2.ipynb",
      "provenance": [],
      "collapsed_sections": []
    },
    "kernelspec": {
      "name": "python3",
      "display_name": "Python 3"
    },
    "language_info": {
      "name": "python"
    }
  },
  "cells": [
    {
      "cell_type": "markdown",
      "metadata": {
        "id": "TQ5HKbTVeqiK"
      },
      "source": [
        "## Purchase\n"
      ]
    },
    {
      "cell_type": "code",
      "metadata": {
        "id": "3WFYlKxXdIxz"
      },
      "source": [
        "import json \n",
        "\n",
        "fd = open(\"Data.json\",'r')\n",
        "r = fd.read()\n",
        "fd.close() \n",
        "Data = json.loads(r)\n",
        " "
      ],
      "execution_count": 18,
      "outputs": []
    },
    {
      "cell_type": "code",
      "metadata": {
        "id": "uomwGEFzhyZ0",
        "colab": {
          "base_uri": "https://localhost:8080/"
        },
        "outputId": "a4ad343b-a44d-4974-952f-090ad0960996"
      },
      "source": [
        "ui_prod = str(input(\"Enter the product id:\"))\n",
        "\n",
        "print(\"Products:\",Data[ui_prod]['name'])\n",
        "\n",
        "print(\"price:\",Data[ui_prod]['price']) \n",
        "\n",
        "print(\"Available_quantity:\",Data[ui_prod]['quantity'])\n",
        "\n",
        "ui_quant = int(input(\"Enter the product quantity:\"))\n",
        "  \n",
        "print(\"***********************\")\n",
        "print(\"Billing amount:\",Data[ui_prod]['price'] * ui_quant) \n",
        "print(\"***********************\")\n",
        "\n",
        "\n",
        "## Discount\n",
        "\n",
        "\n",
        "amt= Data[ui_prod]['price'] * ui_quant\n",
        "if(amt>0):\n",
        "    if amt<=30:\n",
        "       disc = amt*0.03\n",
        "    elif amt<=50:\n",
        "        disc=amt*0.07\n",
        "    elif amt<=100:\n",
        "        disc=0.70 * amt\n",
        "    else:\n",
        "         disc=0.12 * amt\n",
        "    \n",
        "    print(\"Your Discount : \",\"---\",disc,\"---\")\n",
        "    print(\"Net Pay  : \",amt-disc)\n",
        "else:\n",
        "    print(\"Invalid Amount\")\n",
        "        \n",
        "\n"
      ],
      "execution_count": 20,
      "outputs": [
        {
          "output_type": "stream",
          "name": "stdout",
          "text": [
            "Enter the product id:191130\n",
            "Products: Treat\n",
            "price: 40\n",
            "Available_quantity: 350\n",
            "Enter the product quantity:50\n",
            "***********************\n",
            "Billing amount: 2000\n",
            "***********************\n",
            "Your Discount :  --- 240.0 ---\n",
            "Net Pay  :  1760.0\n"
          ]
        }
      ]
    },
    {
      "cell_type": "markdown",
      "metadata": {
        "id": "oXJrHgLFOP5B"
      },
      "source": [
        "##Update Inventory after purchase"
      ]
    },
    {
      "cell_type": "code",
      "metadata": {
        "id": "5OpmFu6nNyKj"
      },
      "source": [
        "\n",
        "Data[ui_prod]['quantity'] = Data[ui_prod]['quantity'] - ui_quant\n"
      ],
      "execution_count": 21,
      "outputs": []
    },
    {
      "cell_type": "code",
      "metadata": {
        "id": "u7My9JH5OPIp",
        "colab": {
          "base_uri": "https://localhost:8080/"
        },
        "outputId": "a7a31e9a-f1c6-4637-a036-2b74a7a04034"
      },
      "source": [
        "Data"
      ],
      "execution_count": 22,
      "outputs": [
        {
          "output_type": "execute_result",
          "data": {
            "text/plain": [
              "{'191101': {'expiry date': '6 months',\n",
              "  'name': 'Parle-g',\n",
              "  'price': 20,\n",
              "  'quantity': 700},\n",
              " '191102': {'expiry date': '6 months',\n",
              "  'name': 'Good day',\n",
              "  'price': 40,\n",
              "  'quantity': 300},\n",
              " '191103': {'expiry date': '3 months',\n",
              "  'name': 'BakersBix',\n",
              "  'price': 25,\n",
              "  'quantity': 350},\n",
              " '191104': {'expiry date': '4 months',\n",
              "  'name': \"Mom's Magic\",\n",
              "  'price': 50,\n",
              "  'quantity': 200},\n",
              " '191105': {'expiry date': '6 months',\n",
              "  'name': 'Bounce',\n",
              "  'price': 20,\n",
              "  'quantity': 400},\n",
              " '191106': {'expiry date': '2 months',\n",
              "  'name': 'oreo',\n",
              "  'price': 40,\n",
              "  'quantity': 1000},\n",
              " '191107': {'expiry date': '5 months',\n",
              "  'name': '20-20',\n",
              "  'price': 10,\n",
              "  'quantity': 600},\n",
              " '191108': {'expiry date': '4 months',\n",
              "  'name': '50-50',\n",
              "  'price': 10,\n",
              "  'quantity': 400},\n",
              " '191109': {'expiry date': '7 months',\n",
              "  'name': 'Monacco',\n",
              "  'price': 20,\n",
              "  'quantity': 350},\n",
              " '191110': {'expiry date': '1 months',\n",
              "  'name': 'magix',\n",
              "  'price': 20,\n",
              "  'quantity': 450},\n",
              " '191111': {'expiry date': '4 months',\n",
              "  'name': 'Nimkin',\n",
              "  'price': 10,\n",
              "  'quantity': 150},\n",
              " '191112': {'expiry date': '3 months',\n",
              "  'name': 'krackjack',\n",
              "  'price': 20,\n",
              "  'quantity': 650},\n",
              " '191113': {'expiry date': '6 months',\n",
              "  'name': 'Kreams',\n",
              "  'price': 30,\n",
              "  'quantity': 850},\n",
              " '191114': {'expiry date': '6 months',\n",
              "  'name': 'Hide & Seek',\n",
              "  'price': 40,\n",
              "  'quantity': 350},\n",
              " '191115': {'expiry date': '5 months',\n",
              "  'name': 'Happy Happy',\n",
              "  'price': 50,\n",
              "  'quantity': 200},\n",
              " '191116': {'expiry date': '3 months',\n",
              "  'name': 'Pearle Marie',\n",
              "  'price': 40,\n",
              "  'quantity': 220},\n",
              " '191117': {'expiry date': '5 months',\n",
              "  'name': 'Marie gold',\n",
              "  'price': 10,\n",
              "  'quantity': 180},\n",
              " '191118': {'expiry date': '4 months',\n",
              "  'name': 'Milk shakti',\n",
              "  'price': 10,\n",
              "  'quantity': 650},\n",
              " '191119': {'expiry date': '2 months',\n",
              "  'name': 'Horlicks',\n",
              "  'price': 40,\n",
              "  'quantity': 360},\n",
              " '191120': {'expiry date': '1 months',\n",
              "  'name': 'Top',\n",
              "  'price': 30,\n",
              "  'quantity': 500},\n",
              " '191121': {'expiry date': '6 months',\n",
              "  'name': 'Golden Arcs',\n",
              "  'price': 20,\n",
              "  'quantity': 850},\n",
              " '191122': {'expiry date': '6 months',\n",
              "  'name': 'Burban',\n",
              "  'price': 20,\n",
              "  'quantity': 200},\n",
              " '191123': {'expiry date': '6 months',\n",
              "  'name': 'Tiger',\n",
              "  'price': 10,\n",
              "  'quantity': 340},\n",
              " '191124': {'expiry date': '4 months',\n",
              "  'name': 'Glocusoe V',\n",
              "  'price': 25,\n",
              "  'quantity': 320},\n",
              " '191125': {'expiry date': '4 months',\n",
              "  'name': 'Butter Bake',\n",
              "  'price': 20,\n",
              "  'quantity': 460},\n",
              " '191126': {'expiry date': '5 months',\n",
              "  'name': 'Nutri choice',\n",
              "  'price': 50,\n",
              "  'quantity': 500},\n",
              " '191127': {'expiry date': '3 months',\n",
              "  'name': 'Time Pass',\n",
              "  'price': 30,\n",
              "  'quantity': 550},\n",
              " '191128': {'expiry date': '3 months',\n",
              "  'name': 'Little Hearts',\n",
              "  'price': 50,\n",
              "  'quantity': 350},\n",
              " '191129': {'expiry date': '4 months',\n",
              "  'name': 'Pure Magic',\n",
              "  'price': 40,\n",
              "  'quantity': 250},\n",
              " '191130': {'expiry_date': '4 months',\n",
              "  'name': 'Treat',\n",
              "  'price': 40,\n",
              "  'quantity': 300}}"
            ]
          },
          "metadata": {},
          "execution_count": 22
        }
      ]
    },
    {
      "cell_type": "code",
      "metadata": {
        "id": "QA6E5DcjcoYv"
      },
      "source": [
        "js = json.dumps(Data)\n",
        "\n",
        "fd = open(\"Data.json\",'w')\n",
        "fd.write(js)\n",
        "fd.close()"
      ],
      "execution_count": 23,
      "outputs": []
    },
    {
      "cell_type": "code",
      "metadata": {
        "id": "bkgnluc2dmpC"
      },
      "source": [
        "js"
      ],
      "execution_count": null,
      "outputs": []
    },
    {
      "cell_type": "markdown",
      "metadata": {
        "id": "O5UePCaRkDeH"
      },
      "source": [
        "##Total Sale"
      ]
    },
    {
      "cell_type": "code",
      "metadata": {
        "colab": {
          "base_uri": "https://localhost:8080/",
          "height": 35
        },
        "id": "xk-VrMH6uVHU",
        "outputId": "eb8ecdba-76e5-4ace-8da2-fa70681cdad0"
      },
      "source": [
        "import json\n",
        "js = json.dumps(sales)\n",
        "js"
      ],
      "execution_count": 37,
      "outputs": [
        {
          "output_type": "execute_result",
          "data": {
            "application/vnd.google.colaboratory.intrinsic+json": {
              "type": "string"
            },
            "text/plain": [
              "'{\"1\": {\"prod\": \"191130\", \"quantity\": 50, \"amount\": 1760.0}}'"
            ]
          },
          "metadata": {},
          "execution_count": 37
        }
      ]
    },
    {
      "cell_type": "code",
      "metadata": {
        "id": "qGBpzcmfuo_i"
      },
      "source": [
        "fd = open(\"sales.json\",'w')\n",
        "fd.write(js)\n",
        "fd.close()"
      ],
      "execution_count": 38,
      "outputs": []
    },
    {
      "cell_type": "code",
      "metadata": {
        "id": "z28hI_6Vu7fS"
      },
      "source": [
        "fd = open(\"sales.json\",'r')\n",
        "txt = fd.read()\n",
        "fd.close() \n"
      ],
      "execution_count": 39,
      "outputs": []
    },
    {
      "cell_type": "code",
      "metadata": {
        "id": "juwCRc1Kvook"
      },
      "source": [
        "sale = json.loads(txt)\n"
      ],
      "execution_count": 43,
      "outputs": []
    },
    {
      "cell_type": "code",
      "metadata": {
        "colab": {
          "base_uri": "https://localhost:8080/"
        },
        "id": "oQyqqAMcK3ku",
        "outputId": "abe31ee4-2f43-42af-f026-ebfd885876d0"
      },
      "source": [
        "{'prod': ui_prod,'quantity': ui_quant,'amount':Data[ ui_prod]['price'] * ui_quant }"
      ],
      "execution_count": 45,
      "outputs": [
        {
          "output_type": "execute_result",
          "data": {
            "text/plain": [
              "{'amount': 2000, 'prod': '191130', 'quantity': 50}"
            ]
          },
          "metadata": {},
          "execution_count": 45
        }
      ]
    },
    {
      "cell_type": "code",
      "metadata": {
        "colab": {
          "base_uri": "https://localhost:8080/"
        },
        "id": "oXPkP5A5K7Fm",
        "outputId": "b6fdf936-6e42-48a3-ed4b-aaeb4a98e8a7"
      },
      "source": [
        "  sales = { 1:{'prod': ui_prod,'quantity': ui_quant,'amount':amt-disc },\n",
        "            2:{'prod': ui_prod,'quantity': ui_quant,'amount':amt-disc },\n",
        "            3:{'prod': ui_prod,'quantity': ui_quant,'amount':amt-disc }}\n",
        "  sales\n"
      ],
      "execution_count": 47,
      "outputs": [
        {
          "output_type": "execute_result",
          "data": {
            "text/plain": [
              "{1: {'amount': 1760.0, 'prod': '191130', 'quantity': 50},\n",
              " 2: {'amount': 1760.0, 'prod': '191130', 'quantity': 50},\n",
              " 3: {'amount': 1760.0, 'prod': '191130', 'quantity': 50}}"
            ]
          },
          "metadata": {},
          "execution_count": 47
        }
      ]
    }
  ]
}